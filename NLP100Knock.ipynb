{
  "nbformat": 4,
  "nbformat_minor": 0,
  "metadata": {
    "colab": {
      "name": "NLP100Knock.ipynb",
      "version": "0.3.2",
      "provenance": [],
      "collapsed_sections": []
    },
    "kernelspec": {
      "name": "python3",
      "display_name": "Python 3"
    }
  },
  "cells": [
    {
      "metadata": {
        "id": "XXvQwEi1P7ky",
        "colab_type": "code",
        "colab": {
          "base_uri": "https://localhost:8080/",
          "height": 122
        },
        "outputId": "79771423-d060-42a3-98a0-cd2e811545ff"
      },
      "cell_type": "code",
      "source": [
        "from google.colab import drive\n",
        "drive.mount('/content/drive')\n",
        "#!ls drive/My\\ Drive"
      ],
      "execution_count": 1,
      "outputs": [
        {
          "output_type": "stream",
          "text": [
            "Go to this URL in a browser: https://accounts.google.com/o/oauth2/auth?client_id=947318989803-6bn6qk8qdgf4n4g3pfee6491hc0brc4i.apps.googleusercontent.com&redirect_uri=urn%3Aietf%3Awg%3Aoauth%3A2.0%3Aoob&scope=email%20https%3A%2F%2Fwww.googleapis.com%2Fauth%2Fdocs.test%20https%3A%2F%2Fwww.googleapis.com%2Fauth%2Fdrive%20https%3A%2F%2Fwww.googleapis.com%2Fauth%2Fdrive.photos.readonly%20https%3A%2F%2Fwww.googleapis.com%2Fauth%2Fpeopleapi.readonly&response_type=code\n",
            "\n",
            "Enter your authorization code:\n",
            "··········\n",
            "Mounted at /content/drive\n"
          ],
          "name": "stdout"
        }
      ]
    },
    {
      "metadata": {
        "id": "W7EzFfRfQ-vR",
        "colab_type": "text"
      },
      "cell_type": "markdown",
      "source": [
        "http://www.cl.ecei.tohoku.ac.jp/nlp100/"
      ]
    },
    {
      "metadata": {
        "id": "sXKIyfnfoUOT",
        "colab_type": "text"
      },
      "cell_type": "markdown",
      "source": [
        "# 2019/02/21"
      ]
    },
    {
      "metadata": {
        "id": "ywKXuZ5fQ8Ou",
        "colab_type": "text"
      },
      "cell_type": "markdown",
      "source": [
        "00. 文字列の逆順\n",
        "\n",
        "文字列\"stressed\"の文字を逆に（末尾から先頭に向かって）並べた文字列を得よ．"
      ]
    },
    {
      "metadata": {
        "id": "dwwLptT6QeIK",
        "colab_type": "code",
        "colab": {
          "base_uri": "https://localhost:8080/",
          "height": 34
        },
        "outputId": "b9b62c5b-f0f0-4ec5-f1d6-3dd67dacaaf4"
      },
      "cell_type": "code",
      "source": [
        "moji = \"stressed\"\n",
        "\n",
        "target = \"\"\n",
        "\n",
        "for i in reversed(moji): target += i\n",
        "\n",
        "target"
      ],
      "execution_count": 1,
      "outputs": [
        {
          "output_type": "execute_result",
          "data": {
            "text/plain": [
              "'desserts'"
            ]
          },
          "metadata": {
            "tags": []
          },
          "execution_count": 1
        }
      ]
    },
    {
      "metadata": {
        "id": "FvFho_a_Spq0",
        "colab_type": "text"
      },
      "cell_type": "markdown",
      "source": [
        "01. 「パタトクカシーー」\n",
        "\n",
        "「パタトクカシーー」という文字列の1,3,5,7文字目を取り出して連結した文字列を得よ．"
      ]
    },
    {
      "metadata": {
        "id": "Jxo7kYWvStTi",
        "colab_type": "code",
        "colab": {
          "base_uri": "https://localhost:8080/",
          "height": 34
        },
        "outputId": "56b39a53-b8ad-4ee2-e86e-2a4f695e6a6e"
      },
      "cell_type": "code",
      "source": [
        "moji = \"パタトクカシーー\"\n",
        "\n",
        "target = \"\"\n",
        "\n",
        "for i in range(len(moji)):\n",
        "    if i % 2 == 0:\n",
        "        target += moji[i]\n",
        "        \n",
        "target"
      ],
      "execution_count": 2,
      "outputs": [
        {
          "output_type": "execute_result",
          "data": {
            "text/plain": [
              "'パトカー'"
            ]
          },
          "metadata": {
            "tags": []
          },
          "execution_count": 2
        }
      ]
    },
    {
      "metadata": {
        "id": "vC0YmQsCXY_5",
        "colab_type": "text"
      },
      "cell_type": "markdown",
      "source": [
        "02. 「パトカー」＋「タクシー」＝「パタトクカシーー」\n",
        "\n",
        "「パトカー」＋「タクシー」の文字を先頭から交互に連結して文字列「パタトクカシーー」を得よ．"
      ]
    },
    {
      "metadata": {
        "id": "vE3I7zv6XYmD",
        "colab_type": "code",
        "colab": {
          "base_uri": "https://localhost:8080/",
          "height": 34
        },
        "outputId": "424048c0-ec4b-49ce-9dc5-1ce4d6fa5bdc"
      },
      "cell_type": "code",
      "source": [
        "hoge = \"パトカー\"\n",
        "huga = \"タクシー\"\n",
        "\n",
        "target = \"\"\n",
        "\n",
        "for i in range(len(hoge)):\n",
        "    target += hoge[i]\n",
        "    target += huga[i]\n",
        "    \n",
        "target"
      ],
      "execution_count": 3,
      "outputs": [
        {
          "output_type": "execute_result",
          "data": {
            "text/plain": [
              "'パタトクカシーー'"
            ]
          },
          "metadata": {
            "tags": []
          },
          "execution_count": 3
        }
      ]
    },
    {
      "metadata": {
        "id": "eCh-gnTRXgAp",
        "colab_type": "text"
      },
      "cell_type": "markdown",
      "source": [
        "03. 円周率\n",
        "\n",
        "\"Now I need a drink, alcoholic of course, after the heavy lectures involving quantum mechanics.\"という文を単語に分解し，各単語の（アルファベットの）文字数を先頭から出現順に並べたリストを作成せよ．"
      ]
    },
    {
      "metadata": {
        "id": "3nBvVlzCXYiT",
        "colab_type": "code",
        "colab": {
          "base_uri": "https://localhost:8080/",
          "height": 34
        },
        "outputId": "4477ed16-397b-48dc-c94d-c47e2e65c157"
      },
      "cell_type": "code",
      "source": [
        "sentence = \"Now I need a drink, alcoholic of course, after the heavy lectures involving quantum mechanics.\"\n",
        "\n",
        "word =  sentence.split()\n",
        "\n",
        "lst = [] \n",
        "\n",
        "for i, val in enumerate(word): lst.append(len(val))\n",
        "\n",
        "print(lst)"
      ],
      "execution_count": 4,
      "outputs": [
        {
          "output_type": "stream",
          "text": [
            "[3, 1, 4, 1, 6, 9, 2, 7, 5, 3, 5, 8, 9, 7, 10]\n"
          ],
          "name": "stdout"
        }
      ]
    },
    {
      "metadata": {
        "id": "dgWfLx0scO1F",
        "colab_type": "text"
      },
      "cell_type": "markdown",
      "source": [
        "04. 元素記号\n",
        "\n",
        "\"Hi He Lied Because Boron Could Not Oxidize Fluorine. New Nations Might Also Sign Peace Security Clause. Arthur King Can.\"という文を単語に分解し，1, 5, 6, 7, 8, 9, 15, 16, 19番目の単語は先頭の1文字，それ以外の単語は先頭に2文字を取り出し，取り出した文字列から単語の位置（先頭から何番目の単語か）への連想配列（辞書型もしくはマップ型）を作成せよ．"
      ]
    },
    {
      "metadata": {
        "id": "2z5CuHt2cSfh",
        "colab_type": "code",
        "colab": {
          "base_uri": "https://localhost:8080/",
          "height": 357
        },
        "outputId": "4489ae40-9a6c-4c81-a765-ac729404fc4d"
      },
      "cell_type": "code",
      "source": [
        "sentence = \"Hi He Lied Because Boron Could Not Oxidize Fluorine. New Nations Might Also Sign Peace Security Clause. Arthur King Can.\"\n",
        "\n",
        "word =  sentence.split()\n",
        "\n",
        "num = (1, 5, 6, 7, 8, 9, 15, 16, 19)\n",
        "\n",
        "{wd[:1] if idx+1 in num else wd[:2] : idx+1 for idx, wd in enumerate(word)}"
      ],
      "execution_count": 5,
      "outputs": [
        {
          "output_type": "execute_result",
          "data": {
            "text/plain": [
              "{'Al': 13,\n",
              " 'Ar': 18,\n",
              " 'B': 5,\n",
              " 'Be': 4,\n",
              " 'C': 6,\n",
              " 'Ca': 20,\n",
              " 'Cl': 17,\n",
              " 'F': 9,\n",
              " 'H': 1,\n",
              " 'He': 2,\n",
              " 'K': 19,\n",
              " 'Li': 3,\n",
              " 'Mi': 12,\n",
              " 'N': 7,\n",
              " 'Na': 11,\n",
              " 'Ne': 10,\n",
              " 'O': 8,\n",
              " 'P': 15,\n",
              " 'S': 16,\n",
              " 'Si': 14}"
            ]
          },
          "metadata": {
            "tags": []
          },
          "execution_count": 5
        }
      ]
    },
    {
      "metadata": {
        "id": "z08KQy63QeT6",
        "colab_type": "code",
        "colab": {}
      },
      "cell_type": "code",
      "source": [
        ""
      ],
      "execution_count": 0,
      "outputs": []
    },
    {
      "metadata": {
        "id": "SfdTOHHIQejh",
        "colab_type": "code",
        "colab": {}
      },
      "cell_type": "code",
      "source": [
        ""
      ],
      "execution_count": 0,
      "outputs": []
    },
    {
      "metadata": {
        "id": "tI9kvAEPQe3Q",
        "colab_type": "code",
        "colab": {}
      },
      "cell_type": "code",
      "source": [
        ""
      ],
      "execution_count": 0,
      "outputs": []
    }
  ]
}